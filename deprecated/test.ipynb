{
 "cells": [
  {
   "cell_type": "code",
   "execution_count": null,
   "outputs": [],
   "source": [
    "#!conda activate base"
   ],
   "metadata": {
    "collapsed": false
   }
  },
  {
   "cell_type": "code",
   "execution_count": 1,
   "outputs": [
    {
     "name": "stdout",
     "output_type": "stream",
     "text": [
      "Python 3.9.19\n"
     ]
    }
   ],
   "source": [
    "!python --version"
   ],
   "metadata": {
    "collapsed": false,
    "ExecuteTime": {
     "end_time": "2024-08-05T05:35:37.558378600Z",
     "start_time": "2024-08-05T05:35:37.502489400Z"
    }
   }
  },
  {
   "cell_type": "code",
   "execution_count": 2,
   "outputs": [
    {
     "name": "stdout",
     "output_type": "stream",
     "text": [
      "1.26.4\n"
     ]
    }
   ],
   "source": [
    "import numpy as np\n",
    "\n",
    "\n",
    "\n",
    "print(np.__version__)"
   ],
   "metadata": {
    "collapsed": false,
    "ExecuteTime": {
     "end_time": "2024-08-05T05:35:44.978900700Z",
     "start_time": "2024-08-05T05:35:44.880999100Z"
    }
   }
  },
  {
   "cell_type": "code",
   "execution_count": null,
   "outputs": [],
   "source": [],
   "metadata": {
    "collapsed": false
   }
  },
  {
   "cell_type": "code",
   "execution_count": null,
   "metadata": {},
   "outputs": [],
   "source": [
    "from pathlib import Path"
   ]
  },
  {
   "cell_type": "code",
   "execution_count": null,
   "metadata": {},
   "outputs": [],
   "source": [
    "(Path('hello') / Path('11')).as_posix()"
   ]
  },
  {
   "cell_type": "code",
   "execution_count": null,
   "metadata": {},
   "outputs": [],
   "source": [
    "import pandas as pd\n",
    "import numpy as np\n",
    "import cv2\n",
    "\n",
    "from PIL import Image"
   ]
  },
  {
   "cell_type": "code",
   "execution_count": null,
   "metadata": {},
   "outputs": [],
   "source": [
    "img = Image.open('data/images/street/image0.jpg')"
   ]
  },
  {
   "cell_type": "code",
   "execution_count": null,
   "metadata": {},
   "outputs": [],
   "source": [
    "list({ key: -1 for key in ['x1', 'y1', 'x2', 'y2']}.values())"
   ]
  },
  {
   "cell_type": "code",
   "execution_count": null,
   "metadata": {},
   "outputs": [],
   "source": [
    "for i in img.getdata():\n",
    "    print(i)"
   ]
  },
  {
   "cell_type": "code",
   "execution_count": null,
   "metadata": {},
   "outputs": [],
   "source": [
    "img = cv2.imread('image0.jpg')\n",
    "\n",
    "# Display the image\n",
    "#cv2.imshow('Image', img)"
   ]
  },
  {
   "cell_type": "code",
   "execution_count": null,
   "metadata": {},
   "outputs": [],
   "source": [
    "\n",
    "\n",
    "# Open an image file using PIL\n",
    "img = Image.open('image0.jpg')\n",
    "\n",
    "# Convert the PIL image to a numpy array for matplotlib\n",
    "img_array = np.array(img)\n",
    "\n",
    "# Create a matplotlib figure and axis object\n",
    "fig, ax = plt.subplots()\n",
    "\n",
    "# Display the image on the axis\n",
    "ax.imshow(img_array)\n",
    "\n",
    "# Define a function to handle the click event\n",
    "def onclick(event):\n",
    "    \n",
    "    print('ssss')\n",
    "    \n",
    "    if event.button == 1:  # Left mouse button\n",
    "        print(f'Clicked at pixel coordinates ({int(event.xdata)}, {int(event.ydata)})')\n",
    "    else:\n",
    "        print('Right or middle mouse button clicked')\n",
    "\n",
    "# Connect the click event handler to the figure\n",
    "cid = fig.canvas.mpl_connect('button_press_event', onclick)\n",
    "\n",
    "# Show the plot\n",
    "plt.show()"
   ]
  },
  {
   "cell_type": "code",
   "execution_count": null,
   "metadata": {},
   "outputs": [],
   "source": [
    "from PIL import Image, ImageTk\n",
    "import tkinter as tk\n",
    "\n",
    "# Function to handle mouse clicks\n",
    "def get_pixel(event):\n",
    "    x, y = event.x, event.y\n",
    "    print(f\"Clicked at: ({x}, {y})\")\n",
    "    pixel_value = img.getpixel((x, y))\n",
    "    print(f\"Pixel value: {pixel_value}\")\n",
    "\n",
    "# Load the image\n",
    "image_path = \"image0.jpg\"  # Replace with your image path\n",
    "img = Image.open(image_path)\n",
    "\n",
    "# Create a Tkinter window\n",
    "root = tk.Tk()\n",
    "root.title(\"Click on the Image\")\n",
    "\n",
    "# Convert the image to a format Tkinter can use\n",
    "tk_img = ImageTk.PhotoImage(img)\n",
    "\n",
    "# Create a label to display the image\n",
    "label = tk.Label(root, image=tk_img)\n",
    "label.pack()\n",
    "\n",
    "# Bind the click event to the get_pixel function\n",
    "label.bind(\"<Button-1>\", get_pixel)\n",
    "\n",
    "# Start the Tkinter event loop\n",
    "root.mainloop()"
   ]
  },
  {
   "cell_type": "code",
   "execution_count": null,
   "metadata": {},
   "outputs": [],
   "source": [
    "img = Image.open('image0.jpg')\n",
    "box = (250, 250, 750, 750)\n",
    "img_cropped = img.crop(box)\n",
    "\n",
    "img_cropped.save('myimage_cropped.jpg')\n",
    "img_cropped.show()"
   ]
  },
  {
   "cell_type": "code",
   "execution_count": null,
   "metadata": {},
   "outputs": [],
   "source": [
    "img"
   ]
  }
 ],
 "metadata": {
  "kernelspec": {
   "display_name": "Python 3",
   "language": "python",
   "name": "python3"
  },
  "language_info": {
   "codemirror_mode": {
    "name": "ipython",
    "version": 3
   },
   "file_extension": ".py",
   "mimetype": "text/x-python",
   "name": "python",
   "nbconvert_exporter": "python",
   "pygments_lexer": "ipython3",
   "version": "3.9.19"
  }
 },
 "nbformat": 4,
 "nbformat_minor": 2
}
